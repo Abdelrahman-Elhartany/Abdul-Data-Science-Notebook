{
 "cells": [
  {
   "cell_type": "markdown",
   "id": "9c1b1016-de55-4ee4-8687-64ac09890e94",
   "metadata": {},
   "source": [
    "# Data Science Tools and Ecosystem"
   ]
  },
  {
   "cell_type": "markdown",
   "id": "a67cdeea-a075-4eea-947d-410d31e87167",
   "metadata": {},
   "source": [
    "In this notebook, Data Science Tools and Ecosystem are summarized.\n",
    "\n"
   ]
  },
  {
   "cell_type": "markdown",
   "id": "471babf6-78e7-42bc-a5c8-4acc3d84c989",
   "metadata": {},
   "source": [
    "1. Python\n",
    "2. R\n",
    "3. Java\n"
   ]
  },
  {
   "cell_type": "markdown",
   "id": "9f2c19cc-47cb-44e9-b2c6-6150f467e063",
   "metadata": {},
   "source": [
    "Some of the commonly used libraries used by Data Scientists include:\n",
    "1. Pandas\n",
    "2. NumPy\n",
    "3. Seaborn"
   ]
  },
  {
   "cell_type": "markdown",
   "id": "c206762e-1294-479c-97a6-3aadd2af5de9",
   "metadata": {},
   "source": [
    "|Data Science Tools|\n",
    "|------------------|\n",
    "|Spark|\n",
    "|Hadoop|\n",
    "|Anaconda|"
   ]
  },
  {
   "cell_type": "markdown",
   "id": "530d9321-6e44-48f3-972f-fb5b8b84ced5",
   "metadata": {},
   "source": [
    "### Below are a few examples of evaluating arithmetic expressions in Python"
   ]
  },
  {
   "cell_type": "code",
   "execution_count": 13,
   "id": "812e36f3-7c09-4b99-a9de-1616b574c73d",
   "metadata": {},
   "outputs": [
    {
     "name": "stdout",
     "output_type": "stream",
     "text": [
      "17\n"
     ]
    }
   ],
   "source": [
    "z= (3*4)+5\n",
    "# This a simple arithmetic expression to mutiply then add integers\n",
    "print(z) \n"
   ]
  },
  {
   "cell_type": "code",
   "execution_count": 14,
   "id": "3999b0a5-32f7-4e43-85cc-6be3424195f9",
   "metadata": {},
   "outputs": [
    {
     "data": {
      "text/plain": [
       "3.3333333333333335"
      ]
     },
     "execution_count": 14,
     "metadata": {},
     "output_type": "execute_result"
    }
   ],
   "source": [
    "# This will convert 200 minutes to hours by diving by 60\n",
    "200/60"
   ]
  },
  {
   "cell_type": "markdown",
   "id": "aeece634-6769-497a-a3fa-c640944a6d02",
   "metadata": {},
   "source": [
    " **Objectives:**\n",
    "\n",
    "- Understand the basics of Data Science and its applications.\n",
    "- List popular languages for Data Science.\n",
    "- Explore common libraries and tools used in Data Science workflows.\n",
    "- Perform simple arithmetic operations in Python.\n",
    "- Learn how to structure and document a Jupyter Notebook effectively."
   ]
  },
  {
   "cell_type": "markdown",
   "id": "93796607-897e-4f3a-908b-9106473f273a",
   "metadata": {},
   "source": [
    "## Author\n",
    "Abdelrahman Elhartany"
   ]
  },
  {
   "cell_type": "code",
   "execution_count": null,
   "id": "26f10cdf-7463-4797-a435-6d28b8de6822",
   "metadata": {},
   "outputs": [],
   "source": []
  }
 ],
 "metadata": {
  "kernelspec": {
   "display_name": "Python 3 (ipykernel)",
   "language": "python",
   "name": "python3"
  },
  "language_info": {
   "codemirror_mode": {
    "name": "ipython",
    "version": 3
   },
   "file_extension": ".py",
   "mimetype": "text/x-python",
   "name": "python",
   "nbconvert_exporter": "python",
   "pygments_lexer": "ipython3",
   "version": "3.12.7"
  }
 },
 "nbformat": 4,
 "nbformat_minor": 5
}
